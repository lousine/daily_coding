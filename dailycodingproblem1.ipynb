{
 "cells": [
  {
   "cell_type": "markdown",
   "metadata": {},
   "source": [
    "# Daily Coding Problem: Problem #1"
   ]
  },
  {
   "cell_type": "markdown",
   "metadata": {},
   "source": [
    "This problem was recently asked by Google.\n",
    "\n",
    "Given a list of numbers and a number k, return whether any two numbers from the list add up to k.\n",
    "\n",
    "For example, given [10, 15, 3, 7] and k of 17, return true since 10 + 7 is 17."
   ]
  },
  {
   "cell_type": "code",
   "execution_count": 1,
   "metadata": {},
   "outputs": [],
   "source": [
    "def ElementSum(list, k):\n",
    "    for i in range(0, len(list)):\n",
    "        if k - list[i] in list:\n",
    "            return True\n",
    "    return False "
   ]
  },
  {
   "cell_type": "code",
   "execution_count": 4,
   "metadata": {},
   "outputs": [
    {
     "name": "stdout",
     "output_type": "stream",
     "text": [
      "True\n"
     ]
    }
   ],
   "source": [
    "#Test\n",
    "\n",
    "List = [8, 74, 96, 28, 11, 1, 3]\n",
    "Sum = 9\n",
    "print(ElementSum(List, Sum))"
   ]
  }
 ],
 "metadata": {
  "kernelspec": {
   "display_name": "Python 3",
   "language": "python",
   "name": "python3"
  },
  "language_info": {
   "codemirror_mode": {
    "name": "ipython",
    "version": 3
   },
   "file_extension": ".py",
   "mimetype": "text/x-python",
   "name": "python",
   "nbconvert_exporter": "python",
   "pygments_lexer": "ipython3",
   "version": "3.8.5"
  }
 },
 "nbformat": 4,
 "nbformat_minor": 4
}
